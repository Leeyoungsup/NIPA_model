{
 "cells": [
  {
   "cell_type": "code",
   "execution_count": null,
   "id": "7ac66687",
   "metadata": {},
   "outputs": [],
   "source": [
    "from PIL import Image\n",
    "import numpy as np\n",
    "import matplotlib.pyplot as plt\n",
    "import os \n",
    "from glob import glob\n",
    "from tqdm import tqdm\n",
    "import json\n",
    "import cv2"
   ]
  },
  {
   "cell_type": "code",
   "execution_count": 33,
   "id": "9759b1ca",
   "metadata": {},
   "outputs": [],
   "source": [
    "def polygon2mask(polygon,mask,value):\n",
    "\n",
    "    polygon = np.array(polygon).reshape((-1, 1, 2)).astype(np.int32)\n",
    "    cv2.fillPoly(mask, [polygon], value)\n",
    "    return mask\n",
    "\n",
    "def create_directory(path):\n",
    "    if not os.path.exists(path):\n",
    "        os.makedirs(path)"
   ]
  },
  {
   "cell_type": "code",
   "execution_count": null,
   "id": "fb1f7937",
   "metadata": {},
   "outputs": [
    {
     "name": "stderr",
     "output_type": "stream",
     "text": [
      "  0%|          | 0/5341 [00:00<?, ?it/s]"
     ]
    },
    {
     "name": "stderr",
     "output_type": "stream",
     "text": [
      "100%|██████████| 5341/5341 [00:05<00:00, 1054.95it/s]\n"
     ]
    }
   ],
   "source": [
    "#Stomach\n",
    "image_list=glob('../../data/NIPA/ST*/*.jpeg')\n",
    "json_list=[f.replace('.jpeg','.json') for f in image_list]\n",
    "label_list={'Tumor':0,\n",
    " 'NT_stroma':0,\n",
    " 'NT_immune':0,\n",
    " 'NT_Muscle':0,\n",
    " 'NT_epithelial':0,\n",
    " 'Tumor_diffuse':0,\n",
    " 'Cell_nucleus':0,\n",
    " 'Tumor_intestinal':0,\n",
    " 'NT_intestinal_metaplasia':0}\n",
    "for i in tqdm(range(len(image_list))):\n",
    "    image=Image.open(image_list[i])\n",
    "    width, height=image.size\n",
    "    json_file=json.load(open(json_list[i]))\n",
    "    for j in range(len(json_file['content']['file']['objects'])):\n",
    "        label_name=json_file['content']['file']['objects'][j]['label_nm']\n",
    "        \n",
    "    \n",
    "\n"
   ]
  },
  {
   "cell_type": "code",
   "execution_count": null,
   "id": "88aedc86",
   "metadata": {},
   "outputs": [
    {
     "data": {
      "text/plain": [
       "{'Tumor': 21836,\n",
       " 'NT_stroma': 8619,\n",
       " 'NT_immune': 6474,\n",
       " 'NT_Muscle': 7992,\n",
       " 'NT_epithelial': 8828,\n",
       " 'Tumor_diffuse': 9449,\n",
       " 'Cell_nucleus': 1,\n",
       " 'Tumor_intestinal': 7864,\n",
       " 'NT_intestinal_metaplasia': 4503}"
      ]
     },
     "execution_count": 31,
     "metadata": {},
     "output_type": "execute_result"
    }
   ],
   "source": [
    "label_list"
   ]
  }
 ],
 "metadata": {
  "kernelspec": {
   "display_name": "Python 3",
   "language": "python",
   "name": "python3"
  },
  "language_info": {
   "codemirror_mode": {
    "name": "ipython",
    "version": 3
   },
   "file_extension": ".py",
   "mimetype": "text/x-python",
   "name": "python",
   "nbconvert_exporter": "python",
   "pygments_lexer": "ipython3",
   "version": "3.12.3"
  }
 },
 "nbformat": 4,
 "nbformat_minor": 5
}
