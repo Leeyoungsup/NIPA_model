{
 "cells": [
  {
   "cell_type": "code",
   "execution_count": null,
   "id": "015bfe05",
   "metadata": {},
   "outputs": [],
   "source": [
    "import segmentation_models_pytorch as smp\n",
    "import openslide\n",
    "import torch\n",
    "from torch.utils.data import DataLoader,Dataset\n",
    "from torchvision.transforms import ToTensor\n",
    "import torch.nn.functional as F\n",
    "import pytorch_model_summary\n",
    "import pyvips\n",
    "import matplotlib.pyplot as plt\n",
    "import numpy as np\n",
    "import cv2\n",
    "from glob import glob\n",
    "from tqdm import tqdm\n",
    "import os\n",
    "device=torch.device(\"cuda:0\") if torch.cuda.is_available() else 'cpu'"
   ]
  },
  {
   "cell_type": "code",
   "execution_count": null,
   "id": "4ecdcc71",
   "metadata": {},
   "outputs": [],
   "source": [
    "class_list = {\n",
    "    0:['stroma'],\n",
    "    1:['immune'],\n",
    "    2:['Normal'],\n",
    "    3:['Tumor'],\n",
    "}\n",
    "model_path='../../model/NIPA/best_seg_ST_class.pt'\n",
    "model=smp.Unet(\n",
    "        encoder_name=\"efficientnet-b7\",\n",
    "        encoder_weights=\"imagenet\",\n",
    "        in_channels=3,\n",
    "        classes=len(class_list),\n",
    "    ).to(device)\n",
    "model.load_state_dict(torch.load(model_path, map_location=device))\n",
    "model.to(device)\n",
    "model.eval()\n",
    "pytorch_model_summary.summary(model,torch.zeros(1, 3, 1024, 1024).to(device),print_summary=True)"
   ]
  },
  {
   "cell_type": "code",
   "execution_count": null,
   "id": "16714776",
   "metadata": {},
   "outputs": [],
   "source": [
    "\n",
    "color_map = {\n",
    "    0: [255, 255, 255],  # background - white\n",
    "    1: [255, 0, 0],      # stroma - red\n",
    "    2: [0, 255, 0],      # immune - green\n",
    "    3: [0, 0, 255],      # Normal - blue\n",
    "    4: [255, 255, 0],    # Tumor - yellow\n",
    "    \n",
    "}\n",
    "slide_path=glob('../../data/BR_HnE/*.ndpi')\n",
    "i=0\n",
    "slide_image=openslide.OpenSlide(slide_path[i])\n",
    "image_size=2024\n",
    "thumbnail=slide_image.get_thumbnail((slide_image.dimensions[0]//64, slide_image.dimensions[1]//64))\n",
    "slide = pyvips.Image.new_from_file(slide_path[i])\n",
    "\n",
    "thumb_mask=cv2.threshold(255-np.array(thumbnail)[:,:,1],30,255,cv2.THRESH_BINARY)[1]\n",
    "thumb_mask=cv2.morphologyEx(thumb_mask,cv2.MORPH_CLOSE,np.ones((15,15),np.uint8))\n",
    "thumb_mask=cv2.morphologyEx(thumb_mask,cv2.MORPH_OPEN,np.ones((5,5),np.uint8))\n",
    "total_patches = (slide.width//image_size-1) * (slide.height//image_size-1)\n",
    "\n",
    "patch=slide.crop(300*64,500*64, image_size, image_size)\n",
    "patch=np.ndarray(buffer=patch.write_to_memory(),\n",
    "                            dtype=np.uint8,\n",
    "                            shape=[patch.height, patch.width, patch.bands])\n",
    "patch=cv2.resize(patch[:,:,:3],(1024,1024))"
   ]
  },
  {
   "cell_type": "code",
   "execution_count": null,
   "id": "fc45317c",
   "metadata": {},
   "outputs": [],
   "source": [
    "torch_patch=ToTensor()(patch).unsqueeze(0).to(device)\n",
    "with torch.no_grad():\n",
    "    output=model(torch_patch)\n",
    "    pr_mask=F.softmax(output,dim=1)\n",
    "    pr_mask = torch.where(pr_mask>0.5,1,0).cpu().numpy()\n",
    "\n",
    "    \n",
    "pr_mask=np.argmax(pr_mask,axis=1)+1\n",
    "pr_mask_rgb=np.zeros((1024,1024,3),dtype=np.uint8)\n",
    "for k,v in color_map.items():\n",
    "    pr_mask_rgb[pr_mask[0]==k]=v\n",
    "plt.figure(figsize=(12,8))\n",
    "plt.subplot(1,3,1)\n",
    "plt.imshow(patch)\n",
    "plt.title('H&E patch')\n",
    "plt.axis('off')\n",
    "plt.subplot(1,3,2)\n",
    "plt.imshow(pr_mask_rgb)\n",
    "plt.title('Predicted mask')\n",
    "plt.axis('off')\n",
    "plt.subplot(1,3,3)\n",
    "plt.imshow(patch/255*0.5+pr_mask_rgb/255*0.5,cmap='jet',vmin=0,vmax=4)\n",
    "plt.title('Predicted classes')\n",
    "plt.axis('off')\n",
    "plt.show()"
   ]
  },
  {
   "cell_type": "code",
   "execution_count": null,
   "id": "324db0bc",
   "metadata": {},
   "outputs": [],
   "source": [
    "patch*0.5+pr_mask_rgb*0.5"
   ]
  }
 ],
 "metadata": {
  "kernelspec": {
   "display_name": "Python 3",
   "language": "python",
   "name": "python3"
  },
  "language_info": {
   "codemirror_mode": {
    "name": "ipython",
    "version": 3
   },
   "file_extension": ".py",
   "mimetype": "text/x-python",
   "name": "python",
   "nbconvert_exporter": "python",
   "pygments_lexer": "ipython3",
   "version": "3.12.3"
  }
 },
 "nbformat": 4,
 "nbformat_minor": 5
}
