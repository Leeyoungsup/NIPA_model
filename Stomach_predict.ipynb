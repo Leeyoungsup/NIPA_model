{
 "cells": [
  {
   "cell_type": "code",
   "execution_count": 23,
   "id": "015bfe05",
   "metadata": {},
   "outputs": [],
   "source": [
    "import segmentation_models_pytorch as smp\n",
    "import openslide\n",
    "import torch\n",
    "from torch.utils.data import DataLoader,Dataset\n",
    "from torchvision.transforms import ToTensor\n",
    "import torch.nn.functional as F\n",
    "import pytorch_model_summary\n",
    "import pyvips\n",
    "import matplotlib.pyplot as plt\n",
    "import numpy as np\n",
    "import cv2\n",
    "from glob import glob\n",
    "from tqdm import tqdm\n",
    "import os\n",
    "from PIL import Image\n",
    "device=torch.device(\"cuda:0\") if torch.cuda.is_available() else 'cpu'"
   ]
  },
  {
   "cell_type": "code",
   "execution_count": 2,
   "id": "4ecdcc71",
   "metadata": {},
   "outputs": [
    {
     "name": "stdout",
     "output_type": "stream",
     "text": [
      "-----------------------------------------------------------------------------------------------------------------------------------------------------------------------------\n",
      "            Layer (type)                                                                                                        Output Shape         Param #     Tr. Param #\n",
      "=============================================================================================================================================================================\n",
      "   EfficientNetEncoder-1     [1, 3, 1024, 1024], [1, 64, 512, 512], [1, 48, 256, 256], [1, 80, 128, 128], [1, 224, 64, 64], [1, 640, 32, 32]      63,786,960      63,786,960\n",
      "           UnetDecoder-2                                                                                                 [1, 16, 1024, 1024]       3,308,224       3,308,224\n",
      "                Conv2d-3                                                                                                  [1, 4, 1024, 1024]             580             580\n",
      "              Identity-4                                                                                                  [1, 4, 1024, 1024]               0               0\n",
      "            Activation-5                                                                                                  [1, 4, 1024, 1024]               0               0\n",
      "=============================================================================================================================================================================\n",
      "Total params: 67,095,764\n",
      "Trainable params: 67,095,764\n",
      "Non-trainable params: 0\n",
      "-----------------------------------------------------------------------------------------------------------------------------------------------------------------------------\n"
     ]
    },
    {
     "data": {
      "text/plain": [
       "'-----------------------------------------------------------------------------------------------------------------------------------------------------------------------------\\n            Layer (type)                                                                                                        Output Shape         Param #     Tr. Param #\\n=============================================================================================================================================================================\\n   EfficientNetEncoder-1     [1, 3, 1024, 1024], [1, 64, 512, 512], [1, 48, 256, 256], [1, 80, 128, 128], [1, 224, 64, 64], [1, 640, 32, 32]      63,786,960      63,786,960\\n           UnetDecoder-2                                                                                                 [1, 16, 1024, 1024]       3,308,224       3,308,224\\n                Conv2d-3                                                                                                  [1, 4, 1024, 1024]             580             580\\n              Identity-4                                                                                                  [1, 4, 1024, 1024]               0               0\\n            Activation-5                                                                                                  [1, 4, 1024, 1024]               0               0\\n=============================================================================================================================================================================\\nTotal params: 67,095,764\\nTrainable params: 67,095,764\\nNon-trainable params: 0\\n-----------------------------------------------------------------------------------------------------------------------------------------------------------------------------'"
      ]
     },
     "execution_count": 2,
     "metadata": {},
     "output_type": "execute_result"
    }
   ],
   "source": [
    "class_list = {\n",
    "    0:['stroma'],\n",
    "    1:['immune'],\n",
    "    2:['Normal'], \n",
    "    3:['Tumor'],\n",
    "}\n",
    "model_path='../../model/NIPA/best_seg_ST_class.pt'\n",
    "model=smp.Unet(\n",
    "        encoder_name=\"efficientnet-b7\",\n",
    "        encoder_weights=\"imagenet\",\n",
    "        in_channels=3,\n",
    "        classes=len(class_list),\n",
    "    ).to(device)\n",
    "model.load_state_dict(torch.load(model_path, map_location=device))\n",
    "model.to(device)\n",
    "model.eval()\n",
    "pytorch_model_summary.summary(model,torch.zeros(1, 3, 1024, 1024).to(device),print_summary=True)"
   ]
  },
  {
   "cell_type": "code",
   "execution_count": 37,
   "id": "16714776",
   "metadata": {},
   "outputs": [
    {
     "name": "stderr",
     "output_type": "stream",
     "text": [
      "100%|██████████| 41/41 [05:49<00:00,  8.52s/it]\n"
     ]
    }
   ],
   "source": [
    "\n",
    "color_map = {\n",
    "    0: [255, 255, 255],      # stroma - red\n",
    "    1: [0, 255, 0],      # immune - green\n",
    "    2: [0, 0, 255],      # Normal - blue\n",
    "    3: [255, 255, 0],    # Tumor - yellow\n",
    "    \n",
    "}\n",
    "slide_path=glob('../../data/BR_HnE/*.ndpi')\n",
    "for i in range(len(slide_path)):\n",
    "    slide_image=openslide.OpenSlide(slide_path[i])\n",
    "    image_size=2024\n",
    "    thumbnail=slide_image.get_thumbnail((slide_image.dimensions[0]//128, slide_image.dimensions[1]//128))\n",
    "    slide = pyvips.Image.new_from_file(slide_path[i])\n",
    "\n",
    "    thumb_mask=cv2.threshold(255-np.array(thumbnail)[:,:,1],30,255,cv2.THRESH_OTSU)[1]\n",
    "    thumb_mask=cv2.morphologyEx(thumb_mask,cv2.MORPH_CLOSE,np.ones((15,15),np.uint8))\n",
    "    thumb_mask=cv2.morphologyEx(thumb_mask,cv2.MORPH_OPEN,np.ones((5,5),np.uint8))\n",
    "    total_patches = (slide.width//image_size-1) * (slide.height//image_size-1)\n",
    "    predict_mask = np.ones((1024*(slide.height//image_size), 1024*(slide.width//image_size),3), dtype=np.uint8)*255\n",
    "    for row in tqdm(range(0,slide.height//image_size-1)):\n",
    "        for col in range(0,slide.width//image_size-1):\n",
    "            if thumb_mask[row*image_size//128:(row+1)*image_size//128,col*image_size//128:(col+1)*image_size//128].sum()==0:\n",
    "                predict_mask[row*1024:(row+1)*1024,col*1024:(col+1)*1024]=[255,255,255]\n",
    "                continue\n",
    "            patch = slide.crop(col*image_size, row*image_size, image_size, image_size)\n",
    "            patch = np.ndarray(buffer=patch.write_to_memory(),\n",
    "                                dtype=np.uint8,\n",
    "                                shape=[patch.height, patch.width, patch.bands])\n",
    "            patch=cv2.resize(patch[:,:,:3],(1024,1024),interpolation=cv2.INTER_NEAREST)\n",
    "            torch_patch=ToTensor()(patch).unsqueeze(0).to(device)\n",
    "            with torch.no_grad():\n",
    "                output=model(torch_patch)\n",
    "                pr_mask=F.softmax(output,dim=1)\n",
    "                pr_mask = torch.where(pr_mask>0.5,1,0).cpu().numpy()\n",
    "            pr_mask=np.argmax(pr_mask,axis=1)\n",
    "            pr_mask_rgb=np.zeros((1024,1024,3),dtype=np.uint8)\n",
    "            for k,v in color_map.items():\n",
    "                pr_mask_rgb[pr_mask[0]==k]=v\n",
    "            predict_mask[row*1024:(row+1)*1024,col*1024:(col+1)*1024]=pr_mask_rgb\n",
    "\n",
    "    predict_mask=cv2.resize(predict_mask,(slide.width//128,slide.height//128),interpolation=cv2.INTER_NEAREST)\n",
    "    Image.fromarray(predict_mask).save(f'../../results/{os.path.basename(slide_path[i])[:-5]}.png')"
   ]
  },
  {
   "cell_type": "code",
   "execution_count": 36,
   "id": "e98a94bf",
   "metadata": {},
   "outputs": [
    {
     "data": {
      "text/plain": [
       "<matplotlib.image.AxesImage at 0x7fe930f07aa0>"
      ]
     },
     "execution_count": 36,
     "metadata": {},
     "output_type": "execute_result"
    },
    {
     "data": {
      "image/png": "[encoded data removed]",
      "text/plain": [
       "<Figure size 640x480 with 1 Axes>"
      ]
     },
     "metadata": {},
     "output_type": "display_data"
    }
   ],
   "source": [
    "thumb_mask=cv2.threshold(255-np.array(thumbnail)[:,:,1],30,255,cv2.THRESH_OTSU)[1]\n",
    "thumb_mask=cv2.morphologyEx(thumb_mask,cv2.MORPH_CLOSE,np.ones((15,15),np.uint8))\n",
    "thumb_mask=cv2.morphologyEx(thumb_mask,cv2.MORPH_OPEN,np.ones((5,5),np.uint8))\n",
    "plt.imshow(thumb_mask)"
   ]
  }
 ],
 "metadata": {
  "kernelspec": {
   "display_name": "Python 3",
   "language": "python",
   "name": "python3"
  },
  "language_info": {
   "codemirror_mode": {
    "name": "ipython",
    "version": 3
   },
   "file_extension": ".py",
   "mimetype": "text/x-python",
   "name": "python",
   "nbconvert_exporter": "python",
   "pygments_lexer": "ipython3",
   "version": "3.12.3"
  }
 },
 "nbformat": 4,
 "nbformat_minor": 5
}
