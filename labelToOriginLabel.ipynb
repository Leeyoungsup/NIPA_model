{
 "cells": [
  {
   "cell_type": "code",
   "execution_count": 1,
   "id": "4e47f8bf",
   "metadata": {},
   "outputs": [],
   "source": [
    "from PIL import Image,ImageOps\n",
    "import numpy as np\n",
    "import cv2\n",
    "import openslide\n",
    "import pyvips\n",
    "from glob import glob\n",
    "import os\n",
    "from tqdm import tqdm"
   ]
  },
  {
   "cell_type": "code",
   "execution_count": null,
   "id": "e81085c8",
   "metadata": {},
   "outputs": [
    {
     "name": "stderr",
     "output_type": "stream",
     "text": [
      "100%|██████████| 1/1 [00:01<00:00,  1.18s/it]\n"
     ]
    }
   ],
   "source": [
    "slide_list=['../../data/BR_HnE/NIPA-STOP-KN-00041-S-TP-01.ndpi']\n",
    "for i in tqdm(range(len(slide_list))):\n",
    "\n",
    "    slide = pyvips.Image.new_from_file(slide_list[i], access='sequential')\n",
    "    src_img=Image.open(f'../../results/{os.path.basename(slide_list[i]).split('.')[0]}.png')\n",
    "    dst_img=ImageOps.expand(src_img, border=(0, 0, (slide.width-src_img.size[0]*32)//32, (slide.height-src_img.size[1]*32)//32), fill=(255, 255, 255))\n",
    "    \n",
    "    # 투명도 설정을 위해 RGBA로 변환\n",
    "    dst_img = dst_img.convert('RGBA')\n",
    "    data = np.array(dst_img)\n",
    "    \n",
    "    # 흰색 픽셀 찾기 (RGB 값이 모두 255인 경우)\n",
    "    white_mask = (data[:,:,0] == 255) & (data[:,:,1] == 255) & (data[:,:,2] == 255)\n",
    "    \n",
    "    # 흰색은 완전 투명 (알파값 0), 나머지는 50% 투명 (알파값 128)\n",
    "    data[white_mask, 3] = 0     # 완전 투명\n",
    "    data[~white_mask, 3] = 75  # 50% 투명\n",
    "    \n",
    "    # numpy 배열을 다시 PIL 이미지로 변환\n",
    "    dst_img = Image.fromarray(data, 'RGBA')\n",
    "    dst_img.save(f'../../results/{os.path.basename(slide_list[i]).split(\".\")[0]}_seg_padding.png')\n",
    "    # OpenCV - 빠름\n",
    "    "
   ]
  },
  {
   "cell_type": "code",
   "execution_count": 21,
   "id": "185e8a52",
   "metadata": {},
   "outputs": [
    {
     "data": {
      "text/plain": [
       "161280"
      ]
     },
     "execution_count": 21,
     "metadata": {},
     "output_type": "execute_result"
    }
   ],
   "source": [
    "slide.width"
   ]
  }
 ],
 "metadata": {
  "kernelspec": {
   "display_name": "Python 3",
   "language": "python",
   "name": "python3"
  },
  "language_info": {
   "codemirror_mode": {
    "name": "ipython",
    "version": 3
   },
   "file_extension": ".py",
   "mimetype": "text/x-python",
   "name": "python",
   "nbconvert_exporter": "python",
   "pygments_lexer": "ipython3",
   "version": "3.12.3"
  }
 },
 "nbformat": 4,
 "nbformat_minor": 5
}
